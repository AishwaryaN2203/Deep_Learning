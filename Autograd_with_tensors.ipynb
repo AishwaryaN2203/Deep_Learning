{
  "nbformat": 4,
  "nbformat_minor": 0,
  "metadata": {
    "colab": {
      "provenance": [],
      "include_colab_link": true
    },
    "kernelspec": {
      "name": "python3",
      "display_name": "Python 3"
    }
  },
  "cells": [
    {
      "cell_type": "markdown",
      "metadata": {
        "id": "view-in-github",
        "colab_type": "text"
      },
      "source": [
        "<a href=\"https://colab.research.google.com/github/AishwaryaN2203/Deep_Learning/blob/main/Autograd_with_tensors.ipynb\" target=\"_parent\"><img src=\"https://colab.research.google.com/assets/colab-badge.svg\" alt=\"Open In Colab\"/></a>"
      ]
    },
    {
      "cell_type": "markdown",
      "metadata": {
        "id": "KPXHZpput5Xf"
      },
      "source": [
        "# Autograd with tensors\n",
        "\n",
        "- Autograd is used for automatically calculating the gradients of tensors\n",
        "- Keeps track of operations performed on tensors and then going backwards through there operations, calculating gradients along the way"
      ]
    },
    {
      "cell_type": "code",
      "metadata": {
        "id": "p-C6nLqAt98a"
      },
      "source": [
        "import torch"
      ],
      "execution_count": 1,
      "outputs": []
    },
    {
      "cell_type": "code",
      "metadata": {
        "id": "WRSfe0Lut952",
        "colab": {
          "base_uri": "https://localhost:8080/"
        },
        "outputId": "27dd65bd-7cac-41f2-ed22-478c7ea5dee4"
      },
      "source": [
        "w = torch.randn(4,3, requires_grad=True)\n",
        "w"
      ],
      "execution_count": 2,
      "outputs": [
        {
          "output_type": "execute_result",
          "data": {
            "text/plain": [
              "tensor([[-0.4606, -0.8573, -0.1165],\n",
              "        [ 0.9729,  0.0966, -0.3621],\n",
              "        [ 0.4838, -0.1181,  2.1014],\n",
              "        [-0.0511, -2.4486, -2.2380]], requires_grad=True)"
            ]
          },
          "metadata": {},
          "execution_count": 2
        }
      ]
    },
    {
      "cell_type": "code",
      "metadata": {
        "id": "O-QcOYO1tkOn",
        "colab": {
          "base_uri": "https://localhost:8080/"
        },
        "outputId": "71a7ab1a-d318-4816-f822-d38ecbe2038b"
      },
      "source": [
        "t = torch.randn(4,3, requires_grad=False)\n",
        "t"
      ],
      "execution_count": 3,
      "outputs": [
        {
          "output_type": "execute_result",
          "data": {
            "text/plain": [
              "tensor([[-0.3079,  0.4855, -0.8610],\n",
              "        [ 1.0824, -0.8682,  0.3224],\n",
              "        [-0.9010, -0.9534,  0.9760],\n",
              "        [ 0.4891,  0.0157,  0.3562]])"
            ]
          },
          "metadata": {},
          "execution_count": 3
        }
      ]
    },
    {
      "cell_type": "code",
      "metadata": {
        "id": "FuWckF34t8X1",
        "colab": {
          "base_uri": "https://localhost:8080/"
        },
        "outputId": "8d1e737d-0119-49f4-e76d-2bb8bb0d1acf"
      },
      "source": [
        "# y holds the exponent of the tensor w (y = e^w )\n",
        "y = torch.exp(w)\n",
        "y"
      ],
      "execution_count": 4,
      "outputs": [
        {
          "output_type": "execute_result",
          "data": {
            "text/plain": [
              "tensor([[0.6309, 0.4243, 0.8900],\n",
              "        [2.6457, 1.1014, 0.6962],\n",
              "        [1.6223, 0.8886, 8.1779],\n",
              "        [0.9502, 0.0864, 0.1067]], grad_fn=<ExpBackward0>)"
            ]
          },
          "metadata": {},
          "execution_count": 4
        }
      ]
    },
    {
      "cell_type": "code",
      "metadata": {
        "id": "SkQCjuabt8Vh",
        "colab": {
          "base_uri": "https://localhost:8080/"
        },
        "outputId": "83d19853-c0ad-45b5-c9a3-27f86b70506d"
      },
      "source": [
        "# Autograd modeule keeps track of these operations and knows how to calculate the gradient for each one\n",
        "print(y.grad_fn)"
      ],
      "execution_count": 5,
      "outputs": [
        {
          "output_type": "stream",
          "name": "stdout",
          "text": [
            "<ExpBackward0 object at 0x7804d8a532e0>\n"
          ]
        }
      ]
    },
    {
      "cell_type": "code",
      "metadata": {
        "id": "rvggJC5wt8Ti",
        "colab": {
          "base_uri": "https://localhost:8080/"
        },
        "outputId": "a223c0cf-e5ab-4adc-94ae-b6150c6cb179"
      },
      "source": [
        "outp = y.mean()\n",
        "outp"
      ],
      "execution_count": 6,
      "outputs": [
        {
          "output_type": "execute_result",
          "data": {
            "text/plain": [
              "tensor(1.5184, grad_fn=<MeanBackward0>)"
            ]
          },
          "metadata": {},
          "execution_count": 6
        }
      ]
    },
    {
      "cell_type": "code",
      "metadata": {
        "id": "PEg2PQiXt8RR",
        "colab": {
          "base_uri": "https://localhost:8080/"
        },
        "outputId": "9463a864-4cc0-4180-f1fb-8e8b6fca9a66"
      },
      "source": [
        "print(w.grad)"
      ],
      "execution_count": 7,
      "outputs": [
        {
          "output_type": "stream",
          "name": "stdout",
          "text": [
            "None\n"
          ]
        }
      ]
    },
    {
      "cell_type": "code",
      "metadata": {
        "id": "QZopoC8It8O7"
      },
      "source": [
        "outp.backward()"
      ],
      "execution_count": 8,
      "outputs": []
    },
    {
      "cell_type": "code",
      "metadata": {
        "id": "ManI6K2rt8HD",
        "colab": {
          "base_uri": "https://localhost:8080/"
        },
        "outputId": "0df5bf47-deda-44c4-d738-ef7a322a84b6"
      },
      "source": [
        "print(w.grad)"
      ],
      "execution_count": 9,
      "outputs": [
        {
          "output_type": "stream",
          "name": "stdout",
          "text": [
            "tensor([[0.0526, 0.0354, 0.0742],\n",
            "        [0.2205, 0.0918, 0.0580],\n",
            "        [0.1352, 0.0741, 0.6815],\n",
            "        [0.0792, 0.0072, 0.0089]])\n"
          ]
        }
      ]
    },
    {
      "cell_type": "code",
      "metadata": {
        "id": "tbQpKI4it8EJ",
        "colab": {
          "base_uri": "https://localhost:8080/"
        },
        "outputId": "59dbcda1-64a9-4438-f0c4-30a9fb10874f"
      },
      "source": [
        "# To stop the tensor from tracking history, you can call the detach method to detach it from computation history\n",
        "print(w.detach())"
      ],
      "execution_count": 10,
      "outputs": [
        {
          "output_type": "stream",
          "name": "stdout",
          "text": [
            "tensor([[-0.4606, -0.8573, -0.1165],\n",
            "        [ 0.9729,  0.0966, -0.3621],\n",
            "        [ 0.4838, -0.1181,  2.1014],\n",
            "        [-0.0511, -2.4486, -2.2380]])\n"
          ]
        }
      ]
    },
    {
      "cell_type": "code",
      "metadata": {
        "id": "Qq3KkSGvt8B_",
        "colab": {
          "base_uri": "https://localhost:8080/"
        },
        "outputId": "7b315d61-1606-4d70-df6f-70c701f7e8ff"
      },
      "source": [
        "# To prevent tracking history\n",
        "# Eg: Model might have trainable parameters\n",
        "print(outp.requires_grad)"
      ],
      "execution_count": 11,
      "outputs": [
        {
          "output_type": "stream",
          "name": "stdout",
          "text": [
            "True\n"
          ]
        }
      ]
    },
    {
      "cell_type": "code",
      "metadata": {
        "id": "SgOzb_QMt7_-",
        "colab": {
          "base_uri": "https://localhost:8080/"
        },
        "outputId": "5fb8114a-4b70-4edb-b41c-8691b5d01f52"
      },
      "source": [
        "with torch.no_grad():\n",
        "  outp = (w+y).mean()\n",
        "\n",
        "print(outp.requires_grad)"
      ],
      "execution_count": 14,
      "outputs": [
        {
          "output_type": "stream",
          "name": "stdout",
          "text": [
            "False\n"
          ]
        }
      ]
    },
    {
      "cell_type": "code",
      "metadata": {
        "id": "zVpIjfJ9t79q",
        "colab": {
          "base_uri": "https://localhost:8080/"
        },
        "outputId": "a615625a-b366-4d93-9d5a-b0559752dd8b"
      },
      "source": [
        "print(outp.requires_grad)"
      ],
      "execution_count": 15,
      "outputs": [
        {
          "output_type": "stream",
          "name": "stdout",
          "text": [
            "False\n"
          ]
        }
      ]
    },
    {
      "cell_type": "code",
      "metadata": {
        "id": "_zJ-R2vvt77R"
      },
      "source": [],
      "execution_count": 8,
      "outputs": []
    },
    {
      "cell_type": "code",
      "metadata": {
        "id": "uXriXeRvt75Z"
      },
      "source": [],
      "execution_count": 8,
      "outputs": []
    },
    {
      "cell_type": "code",
      "metadata": {
        "id": "J89G4qJjt73R"
      },
      "source": [],
      "execution_count": 8,
      "outputs": []
    },
    {
      "cell_type": "code",
      "metadata": {
        "id": "j6LeAdwRt71B"
      },
      "source": [],
      "execution_count": 8,
      "outputs": []
    },
    {
      "cell_type": "code",
      "metadata": {
        "id": "cg0PVIylt7y1"
      },
      "source": [],
      "execution_count": 8,
      "outputs": []
    },
    {
      "cell_type": "code",
      "metadata": {
        "id": "ZO2B3MaSt7we"
      },
      "source": [],
      "execution_count": 8,
      "outputs": []
    },
    {
      "cell_type": "code",
      "metadata": {
        "id": "oOG09FTEt7uO"
      },
      "source": [],
      "execution_count": 8,
      "outputs": []
    },
    {
      "cell_type": "code",
      "metadata": {
        "id": "EIOQXJu-t7sK"
      },
      "source": [],
      "execution_count": 8,
      "outputs": []
    },
    {
      "cell_type": "code",
      "metadata": {
        "id": "bkjm3Hp3t7p-"
      },
      "source": [],
      "execution_count": 8,
      "outputs": []
    }
  ]
}