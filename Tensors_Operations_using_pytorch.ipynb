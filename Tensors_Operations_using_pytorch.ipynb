{
  "nbformat": 4,
  "nbformat_minor": 0,
  "metadata": {
    "colab": {
      "provenance": [],
      "include_colab_link": true
    },
    "kernelspec": {
      "display_name": "Python 3",
      "language": "python",
      "name": "python3"
    },
    "language_info": {
      "codemirror_mode": {
        "name": "ipython",
        "version": 3
      },
      "file_extension": ".py",
      "mimetype": "text/x-python",
      "name": "python",
      "nbconvert_exporter": "python",
      "pygments_lexer": "ipython3",
      "version": "3.6.8"
    }
  },
  "cells": [
    {
      "cell_type": "markdown",
      "metadata": {
        "id": "view-in-github",
        "colab_type": "text"
      },
      "source": [
        "<a href=\"https://colab.research.google.com/github/AishwaryaN2203/Deep_Learning/blob/main/Tensors_Operations_using_pytorch.ipynb\" target=\"_parent\"><img src=\"https://colab.research.google.com/assets/colab-badge.svg\" alt=\"Open In Colab\"/></a>"
      ]
    },
    {
      "cell_type": "markdown",
      "metadata": {
        "id": "LFNM3-HxkJtN"
      },
      "source": [
        "# Tensors"
      ]
    },
    {
      "cell_type": "code",
      "source": [],
      "metadata": {
        "id": "JlwD1C2UKaI9"
      },
      "execution_count": null,
      "outputs": []
    },
    {
      "cell_type": "code",
      "metadata": {
        "id": "IkXveXITKBst"
      },
      "source": [
        "import torch"
      ],
      "execution_count": null,
      "outputs": []
    },
    {
      "cell_type": "markdown",
      "metadata": {
        "id": "0ipN4cH3zsO8"
      },
      "source": [
        "## zeros()"
      ]
    },
    {
      "cell_type": "code",
      "metadata": {
        "id": "z_fJogRyKDr0"
      },
      "source": [
        "w = torch.zeros(4,3)"
      ],
      "execution_count": null,
      "outputs": []
    },
    {
      "cell_type": "markdown",
      "source": [
        ".zeros(param1, param2)\n",
        "\n",
        "param1 = no of rows\n",
        "param2 = no of columns"
      ],
      "metadata": {
        "id": "dCENfIzg5S9W"
      }
    },
    {
      "cell_type": "code",
      "source": [
        "w"
      ],
      "metadata": {
        "colab": {
          "base_uri": "https://localhost:8080/"
        },
        "id": "xmXmgjQy5sNx",
        "outputId": "12b0b768-d7bf-4716-d814-fb230b3605aa"
      },
      "execution_count": null,
      "outputs": [
        {
          "output_type": "execute_result",
          "data": {
            "text/plain": [
              "tensor([[0., 0., 0.],\n",
              "        [0., 0., 0.],\n",
              "        [0., 0., 0.],\n",
              "        [0., 0., 0.]])"
            ]
          },
          "metadata": {},
          "execution_count": 5
        }
      ]
    },
    {
      "cell_type": "markdown",
      "metadata": {
        "id": "Jl7s1b1pz4Vb"
      },
      "source": [
        "## size() and shape"
      ]
    },
    {
      "cell_type": "code",
      "metadata": {
        "id": "1_Q-KIOPKK78",
        "colab": {
          "base_uri": "https://localhost:8080/"
        },
        "outputId": "f367b27b-bfd5-4059-acfe-7ba61bd70d5d"
      },
      "source": [
        "w.size()"
      ],
      "execution_count": null,
      "outputs": [
        {
          "output_type": "execute_result",
          "data": {
            "text/plain": [
              "torch.Size([4, 3])"
            ]
          },
          "metadata": {},
          "execution_count": 6
        }
      ]
    },
    {
      "cell_type": "code",
      "metadata": {
        "id": "z1_a3ed1KK49",
        "colab": {
          "base_uri": "https://localhost:8080/"
        },
        "outputId": "9f9eb7f4-c761-4199-d2e1-b5ec3d398d41"
      },
      "source": [
        "w.shape"
      ],
      "execution_count": null,
      "outputs": [
        {
          "output_type": "execute_result",
          "data": {
            "text/plain": [
              "torch.Size([4, 3])"
            ]
          },
          "metadata": {},
          "execution_count": 7
        }
      ]
    },
    {
      "cell_type": "markdown",
      "metadata": {
        "id": "6OZJGG9w0DL6"
      },
      "source": [
        "## randn() and randn_like()"
      ]
    },
    {
      "cell_type": "code",
      "metadata": {
        "id": "pElZxDIKKPoc",
        "colab": {
          "base_uri": "https://localhost:8080/"
        },
        "outputId": "b6e0e277-e7ce-45a8-937b-1e382b34c36e"
      },
      "source": [
        "w = torch.randn(4,3)\n",
        "w"
      ],
      "execution_count": null,
      "outputs": [
        {
          "output_type": "execute_result",
          "data": {
            "text/plain": [
              "tensor([[ 0.3864, -1.9321,  1.0684],\n",
              "        [ 0.7906,  0.2255,  0.1451],\n",
              "        [ 1.5294,  0.0881,  1.4176],\n",
              "        [-2.0385,  0.3484,  0.6397]])"
            ]
          },
          "metadata": {},
          "execution_count": 10
        }
      ]
    },
    {
      "cell_type": "code",
      "metadata": {
        "id": "LDzpInhlKPl0",
        "colab": {
          "base_uri": "https://localhost:8080/"
        },
        "outputId": "fbc919c3-451c-4606-d1fd-16fb981d5f15"
      },
      "source": [
        "# randn_like is used to get another random function like a already exisitng tensor\n",
        "t = torch.randn_like(w)\n",
        "t"
      ],
      "execution_count": null,
      "outputs": [
        {
          "output_type": "execute_result",
          "data": {
            "text/plain": [
              "tensor([[ 0.7213,  0.2350, -0.1478],\n",
              "        [-2.8230, -1.9241, -0.1945],\n",
              "        [ 0.8145, -1.0050, -0.0583],\n",
              "        [ 1.1240,  0.3117,  0.2611]])"
            ]
          },
          "metadata": {},
          "execution_count": 12
        }
      ]
    },
    {
      "cell_type": "markdown",
      "metadata": {
        "id": "3rshy4Vq0Jft"
      },
      "source": [
        "## fill_()"
      ]
    },
    {
      "cell_type": "code",
      "metadata": {
        "id": "YH1cBgIoKXGr",
        "colab": {
          "base_uri": "https://localhost:8080/"
        },
        "outputId": "18828f5a-11cf-4cec-969f-c7424f30f1f9"
      },
      "source": [
        "w.fill_(1)"
      ],
      "execution_count": null,
      "outputs": [
        {
          "output_type": "execute_result",
          "data": {
            "text/plain": [
              "tensor([[1., 1., 1.],\n",
              "        [1., 1., 1.],\n",
              "        [1., 1., 1.],\n",
              "        [1., 1., 1.]])"
            ]
          },
          "metadata": {},
          "execution_count": 13
        }
      ]
    },
    {
      "cell_type": "markdown",
      "source": [
        "All pytorch function which is followed by an underscore mutates the function in place"
      ],
      "metadata": {
        "id": "_25O4nRN7Jhr"
      }
    },
    {
      "cell_type": "markdown",
      "metadata": {
        "id": "_eLyYpfw0ot_"
      },
      "source": [
        "## view()"
      ]
    },
    {
      "cell_type": "code",
      "metadata": {
        "id": "8SVsRZWjV6YX",
        "colab": {
          "base_uri": "https://localhost:8080/"
        },
        "outputId": "f1525ed3-8269-4030-e4d3-a89525b94c50"
      },
      "source": [
        "w"
      ],
      "execution_count": null,
      "outputs": [
        {
          "output_type": "execute_result",
          "data": {
            "text/plain": [
              "tensor([[1., 1., 1.],\n",
              "        [1., 1., 1.],\n",
              "        [1., 1., 1.],\n",
              "        [1., 1., 1.]])"
            ]
          },
          "metadata": {},
          "execution_count": 14
        }
      ]
    },
    {
      "cell_type": "code",
      "metadata": {
        "id": "rRjvqiWBVhKH",
        "colab": {
          "base_uri": "https://localhost:8080/"
        },
        "outputId": "8e9bd026-b504-4b1e-cfca-d3312ee23bc5"
      },
      "source": [
        "t = w.view(3,4)\n",
        "t\n",
        "\n",
        "# to view/ reshape the tensor to a different dimension"
      ],
      "execution_count": null,
      "outputs": [
        {
          "output_type": "execute_result",
          "data": {
            "text/plain": [
              "tensor([[1., 1., 1., 1.],\n",
              "        [1., 1., 1., 1.],\n",
              "        [1., 1., 1., 1.]])"
            ]
          },
          "metadata": {},
          "execution_count": 15
        }
      ]
    },
    {
      "cell_type": "code",
      "metadata": {
        "id": "4Le5ZoASVgsw",
        "colab": {
          "base_uri": "https://localhost:8080/"
        },
        "outputId": "41802c77-b8d9-48aa-9ee7-2b8eaee269ed"
      },
      "source": [
        "w.view(3, -1)\n",
        "\n",
        "# To avoid calculation we can use -1 after specifying either row or column"
      ],
      "execution_count": null,
      "outputs": [
        {
          "output_type": "execute_result",
          "data": {
            "text/plain": [
              "tensor([[1., 1., 1., 1.],\n",
              "        [1., 1., 1., 1.],\n",
              "        [1., 1., 1., 1.]])"
            ]
          },
          "metadata": {},
          "execution_count": 17
        }
      ]
    },
    {
      "cell_type": "markdown",
      "metadata": {
        "id": "O7OnDkxj329A"
      },
      "source": [
        "## numpy()"
      ]
    },
    {
      "cell_type": "code",
      "metadata": {
        "id": "VbXZYL6uWCD4",
        "colab": {
          "base_uri": "https://localhost:8080/"
        },
        "outputId": "3708b89a-0e3a-4ec4-d3eb-751f1788fd68"
      },
      "source": [
        "# Torch tensor to numpy array\n",
        "\n",
        "type(w.numpy())"
      ],
      "execution_count": null,
      "outputs": [
        {
          "output_type": "execute_result",
          "data": {
            "text/plain": [
              "numpy.ndarray"
            ]
          },
          "metadata": {},
          "execution_count": 19
        }
      ]
    }
  ]
}